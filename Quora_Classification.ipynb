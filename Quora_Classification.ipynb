{
 "cells": [
  {
   "cell_type": "code",
   "execution_count": 1,
   "id": "a4e4239e-04b9-47d8-950a-361ca69a0c6c",
   "metadata": {},
   "outputs": [],
   "source": [
    "import numpy as np\n",
    "import pandas as pd\n",
    "import matplotlib.pyplot as plt\n",
    "import seaborn as sns\n",
    "%matplotlib inline\n",
    "\n",
    "from nltk.tokenize import TweetTokenizer\n",
    "import datetime\n",
    "import lightgbm as lgb\n",
    "from scipy import stats\n",
    "from scipy.sparse import hstack, csr_matrix\n",
    "from sklearn.model_selection import train_test_split, cross_val_score\n",
    "from wordcloud import WordCloud\n",
    "from collections import Counter\n",
    "from nltk.corpus import stopwords\n",
    "from nltk.util import ngrams\n",
    "from sklearn.feature_extraction.text import TfidfVectorizer\n",
    "from sklearn.preprocessing import StandardScaler\n",
    "from sklearn.linear_model import LogisticRegression\n",
    "from sklearn.svm import LinearSVC\n",
    "from sklearn.multiclass import OneVsRestClassifier\n",
    "import time\n",
    "pd.set_option('max_colwidth',400)\n",
    "\n",
    "from tensorflow.keras.preprocessing.text import Tokenizer\n",
    "from tensorflow.keras.preprocessing.sequence import pad_sequences\n",
    "from sklearn.preprocessing import OneHotEncoder\n",
    "\n",
    "import torch\n",
    "import torch.nn as nn\n",
    "import torch.optim as optim\n",
    "import torch.nn.functional as F\n",
    "from torch.utils.data import Dataset, DataLoader\n",
    "from torch.nn.utils.rnn import pack_padded_sequence, pad_packed_sequence\n",
    "from torch.autograd import Variable\n",
    "import torch.utils.data\n",
    "import random\n",
    "import warnings\n",
    "warnings.filterwarnings(\"ignore\", message=\"F-score is ill-defined and being set to 0.0 due to no predicted samples.\")\n",
    "import re\n",
    "from torch.optim.lr_scheduler import StepLR, ReduceLROnPlateau, CosineAnnealingLR"
   ]
  },
  {
   "cell_type": "code",
   "execution_count": 2,
   "id": "f074e932-b557-4ba3-8ecf-65fc224a04a2",
   "metadata": {},
   "outputs": [],
   "source": [
    "def seed_torch(seed = 1029):\n",
    "    random.seed(seed)\n",
    "    os.environ['PYTHONHASHSEED'] = str(seed)\n",
    "    np.random.seed(seed)\n",
    "    torch.manual_seed(seed)\n",
    "    torch.cuda.manual_seed(seed)\n",
    "    torch.backends.cudnn.deterministic = True"
   ]
  },
  {
   "cell_type": "code",
   "execution_count": 3,
   "id": "b8fc408b-87c8-4769-ba2b-ed34f5fe759b",
   "metadata": {},
   "outputs": [],
   "source": [
    "train = pd.read_csv(\"train.csv\")\n",
    "val = pd.read_csv(\"test.csv\")\n",
    "sub = pd.read_csv('sample_submission.csv')"
   ]
  },
  {
   "cell_type": "code",
   "execution_count": 4,
   "id": "f25d0e73-2d6e-48fb-91c1-c2b6e94bdf71",
   "metadata": {},
   "outputs": [],
   "source": [
    "puncts = [',', '.', '\"', ':', ')', '(', '-', '!', '?', '|', ';', \"'\", '$', '&', '/', '[', ']', '>', '%', '=', '#', '*', '+', '\\\\', '•',  '~', '@', '£', \n",
    " '·', '_', '{', '}', '©', '^', '®', '`',  '<', '→', '°', '€', '™', '›',  '♥', '←', '×', '§', '″', '′', 'Â', '█', '½', 'à', '…', \n",
    " '“', '★', '”', '–', '●', 'â', '►', '−', '¢', '²', '¬', '░', '¶', '↑', '±', '¿', '▾', '═', '¦', '║', '―', '¥', '▓', '—', '‹', '─', \n",
    " '▒', '：', '¼', '⊕', '▼', '▪', '†', '■', '’', '▀', '¨', '▄', '♫', '☆', 'é', '¯', '♦', '¤', '▲', 'è', '¸', '¾', 'Ã', '⋅', '‘', '∞', \n",
    " '∙', '）', '↓', '、', '│', '（', '»', '，', '♪', '╩', '╚', '³', '・', '╦', '╣', '╔', '╗', '▬', '❤', 'ï', 'Ø', '¹', '≤', '‡', '√', ]\n",
    "\n",
    "\n",
    "def space_punkt(x):\n",
    "    \"\"\"Добавляет пробелы до и после знаков пунктуации — это необходимо для дальнейшей токенизации\"\"\"\n",
    "    x = str(x)\n",
    "    for punct in puncts:\n",
    "        x = x.replace(punct, f' {punct} ')\n",
    "    return x\n",
    "\n",
    "def clean_numbers(x):\n",
    "    x = re.sub('[0-9]{5,}', '#####', x)\n",
    "    x = re.sub('[0-9]{4}', '####', x)\n",
    "    x = re.sub('[0-9]{3}', '###', x)\n",
    "    x = re.sub('[0-9]{2}', '##', x)\n",
    "    return x\n",
    "\n",
    "mispell_dict = {\"aren't\" : \"are not\",\n",
    "                \"can't\" : \"cannot\",\n",
    "                \"couldn't\" : \"could not\",\n",
    "                \"didn't\" : \"did not\",\n",
    "                \"doesn't\" : \"does not\",\n",
    "                \"don't\" : \"do not\",\n",
    "                \"hadn't\" : \"had not\",\n",
    "                \"hasn't\" : \"has not\",\n",
    "                \"haven't\" : \"have not\",\n",
    "                \"he'd\" : \"he would\",\n",
    "                \"he'll\" : \"he will\",\n",
    "                \"he's\" : \"he is\",\n",
    "                \"i'd\" : \"I would\",\n",
    "                \"i'll\" : \"I will\",\n",
    "                \"i'm\" : \"I am\",\n",
    "                \"isn't\" : \"is not\",\n",
    "                \"it's\" : \"it is\",\n",
    "                \"it'll\":\"it will\",\n",
    "                \"i've\" : \"I have\",\n",
    "                \"let's\" : \"let us\",\n",
    "                \"mightn't\" : \"might not\",\n",
    "                \"mustn't\" : \"must not\",\n",
    "                \"shan't\" : \"shall not\",\n",
    "                \"she'd\" : \"she would\",\n",
    "                \"she'll\" : \"she will\",\n",
    "                \"she's\" : \"she is\",\n",
    "                \"shouldn't\" : \"should not\",\n",
    "                \"that's\" : \"that is\",\n",
    "                \"there's\" : \"there is\",\n",
    "                \"they'd\" : \"they would\",\n",
    "                \"they'll\" : \"they will\",\n",
    "                \"they're\" : \"they are\",\n",
    "                \"they've\" : \"they have\",\n",
    "                \"we'd\" : \"we would\",\n",
    "                \"we're\" : \"we are\",\n",
    "                \"weren't\" : \"were not\",\n",
    "                \"we've\" : \"we have\",\n",
    "                \"what'll\" : \"what will\",\n",
    "                \"what're\" : \"what are\",\n",
    "                \"what's\" : \"what is\",\n",
    "                \"what've\" : \"what have\",\n",
    "                \"where's\" : \"where is\",\n",
    "                \"who'd\" : \"who would\",\n",
    "                \"who'll\" : \"who will\",\n",
    "                \"who're\" : \"who are\",\n",
    "                \"who's\" : \"who is\",\n",
    "                \"who've\" : \"who have\",\n",
    "                \"won't\" : \"will not\",\n",
    "                \"wouldn't\" : \"would not\",\n",
    "                \"you'd\" : \"you would\",\n",
    "                \"you'll\" : \"you will\",\n",
    "                \"you're\" : \"you are\",\n",
    "                \"you've\" : \"you have\",\n",
    "                \"'re\": \" are\",\n",
    "                \"wasn't\": \"was not\",\n",
    "                \"we'll\":\" will\",\n",
    "                \"didn't\": \"did not\",\n",
    "                \"tryin'\":\"trying\"}\n",
    "\n",
    "def _get_mispell(mispell_dict):\n",
    "    mispell_re = re.compile('(%s)' % '|'.join(mispell_dict.keys()))\n",
    "    return mispell_dict, mispell_re\n",
    "\n",
    "mispellings, mispellings_re = _get_mispell(mispell_dict)\n",
    "\n",
    "def replace_typical_misspell(text):\n",
    "    def replace(match):\n",
    "        return mispellings[match.group(0)]\n",
    "    return mispellings_re.sub(replace, text)\n",
    "\n",
    "train[\"question_text\"] = train[\"question_text\"].apply(lambda x: space_punkt(x.lower()))\n",
    "val[\"question_text\"] = val[\"question_text\"].apply(lambda x: space_punkt(x.lower()))\n",
    "\n",
    "train[\"question_text\"] = train[\"question_text\"].apply(lambda x: clean_numbers(x))\n",
    "val[\"question_text\"] = val[\"question_text\"].apply(lambda x: clean_numbers(x))\n",
    "\n",
    "train[\"question_text\"] = train[\"question_text\"].apply(lambda x: replace_typical_misspell(x))\n",
    "val[\"question_text\"] = val[\"question_text\"].apply(lambda x: replace_typical_misspell(x))"
   ]
  },
  {
   "cell_type": "code",
   "execution_count": 5,
   "id": "a1ed6099-0239-4e7d-acbb-11421af8a793",
   "metadata": {},
   "outputs": [
    {
     "data": {
      "image/png": "[encoded data removed]",
      "text/plain": [
       "<Figure size 640x480 with 1 Axes>"
      ]
     },
     "metadata": {},
     "output_type": "display_data"
    }
   ],
   "source": [
    "max_features = 120000\n",
    "tk = Tokenizer(lower = True, filters='', num_words=max_features)\n",
    "full_text = list(train['question_text'].values) + list(val['question_text'].values)\n",
    "tk.fit_on_texts(full_text)\n",
    "\n",
    "train_tokenized = tk.texts_to_sequences(train['question_text'].fillna('missing'))\n",
    "val_tokenized = tk.texts_to_sequences(val['question_text'].fillna('missing'))\n",
    "\n",
    "train['question_text'].apply(lambda x: len(x.split())).plot(kind='hist');\n",
    "plt.yscale('log');\n",
    "plt.title('Distribution of question text length in characters');"
   ]
  },
  {
   "cell_type": "code",
   "execution_count": 7,
   "id": "a7b3df3e-b0d2-4218-9418-2391d519a50a",
   "metadata": {},
   "outputs": [
    {
     "data": {
      "text/plain": [
       "array([[    0,     0,     0, ...,     2,  1590,     1],\n",
       "       [    0,     0,     0, ...,    54,  1843,     1],\n",
       "       [    0,     0,     0, ...,   471,  5302,     1],\n",
       "       ...,\n",
       "       [    0,     0,     0, ..., 11277,  2923,     1],\n",
       "       [    0,     0,     0, ...,  3411,   433,     1],\n",
       "       [    0,     0,     0, ...,     5, 20274,     1]], dtype=int32)"
      ]
     },
     "execution_count": 7,
     "metadata": {},
     "output_type": "execute_result"
    }
   ],
   "source": [
    "max_len = 603\n",
    "X_train = pad_sequences(train_tokenized, maxlen = max_len)\n",
    "X_val = pad_sequences(val_tokenized, maxlen = max_len)\n",
    "X_train"
   ]
  },
  {
   "cell_type": "code",
   "execution_count": 8,
   "id": "c9fd59f4-42dd-4a34-a96c-df48d3b8118b",
   "metadata": {},
   "outputs": [],
   "source": [
    "y_train = train['target'].values"
   ]
  },
  {
   "cell_type": "code",
   "execution_count": 9,
   "id": "a264ba23-f4d2-4f7c-afa7-a77ce2caffb6",
   "metadata": {},
   "outputs": [],
   "source": [
    "X_train, X_test, y_train, y_test = train_test_split(X_train, \n",
    "                                                    y_train, \n",
    "                                                    test_size=0.2,\n",
    "                                                    random_state=42,\n",
    "                                                    stratify=y_train)"
   ]
  },
  {
   "cell_type": "code",
   "execution_count": 10,
   "id": "b3685bc7-016a-46d1-926a-54834536345d",
   "metadata": {},
   "outputs": [],
   "source": [
    "embed_size = 300\n",
    "embedding_path = \"embeddings/glove.840B.300d/glove.840B.300d.txt\"\n",
    "def get_coefs(word,*arr): return word, np.asarray(arr, dtype='float32')\n",
    "embedding_index = dict(get_coefs(*o.split(\" \")) for o in open(embedding_path, encoding='utf-8', errors='ignore'))\n",
    "# all_embs = np.stack(embedding_index.values())\n",
    "# emb_mean,emb_std = all_embs.mean(), all_embs.std()\n",
    "emb_mean,emb_std = -0.005838499, 0.48782197\n",
    "word_index = tk.word_index\n",
    "nb_words = min(max_features, len(word_index))\n",
    "embedding_matrix = np.random.normal(emb_mean, emb_std, (nb_words + 1, embed_size))\n",
    "for word, i in word_index.items():\n",
    "    if i >= max_features: continue\n",
    "    embedding_vector = embedding_index.get(word)\n",
    "    if embedding_vector is not None: embedding_matrix[i] = embedding_vector"
   ]
  },
  {
   "cell_type": "code",
   "execution_count": 11,
   "id": "11ac4532-5563-4581-ac20-58496f849e1e",
   "metadata": {},
   "outputs": [],
   "source": [
    "embedding_path = \"embeddings/paragram_300_sl999/paragram_300_sl999.txt\"\n",
    "def get_coefs(word,*arr): return word, np.asarray(arr, dtype='float32')\n",
    "embedding_index = dict(get_coefs(*o.split(\" \")) for o in open(embedding_path, encoding='utf-8', errors='ignore') if len(o)>100)\n",
    "# all_embs = np.stack(embedding_index.values())\n",
    "# emb_mean,emb_std = all_embs.mean(), all_embs.std()\n",
    "emb_mean,emb_std = -0.0053247833, 0.49346462\n",
    "embedding_matrix1 = np.random.normal(emb_mean, emb_std, (nb_words + 1, embed_size))\n",
    "for word, i in word_index.items():\n",
    "    if i >= max_features: continue\n",
    "    embedding_vector = embedding_index.get(word)\n",
    "    if embedding_vector is not None: embedding_matrix1[i] = embedding_vector"
   ]
  },
  {
   "cell_type": "code",
   "execution_count": 12,
   "id": "d0e79b29-4c0e-4c80-afcc-2dc21b56e3bf",
   "metadata": {},
   "outputs": [],
   "source": [
    "embedding_matrix = np.mean([embedding_matrix, embedding_matrix1], axis=0)\n",
    "del embedding_matrix1"
   ]
  },
  {
   "cell_type": "code",
   "execution_count": 14,
   "id": "6fc11bf7-93ad-4850-b2b0-047bc43938d2",
   "metadata": {},
   "outputs": [
    {
     "name": "stderr",
     "output_type": "stream",
     "text": [
      "C:\\Users\\krum1\\AppData\\Local\\Temp\\ipykernel_27084\\1979542758.py:4: UserWarning: To copy construct from a tensor, it is recommended to use sourceTensor.clone().detach() or sourceTensor.clone().detach().requires_grad_(True), rather than torch.tensor(sourceTensor).\n",
      "  X_test = torch.tensor(X_train, dtype=torch.long)\n",
      "C:\\Users\\krum1\\AppData\\Local\\Temp\\ipykernel_27084\\1979542758.py:5: UserWarning: To copy construct from a tensor, it is recommended to use sourceTensor.clone().detach() or sourceTensor.clone().detach().requires_grad_(True), rather than torch.tensor(sourceTensor).\n",
      "  y_test = torch.tensor(y_train, dtype=torch.float32)\n"
     ]
    }
   ],
   "source": [
    "X_train = torch.tensor(X_train, dtype=torch.long)\n",
    "y_train = torch.tensor(y_train, dtype=torch.float32)\n",
    "\n",
    "X_test = torch.tensor(X_train, dtype=torch.long)\n",
    "y_test = torch.tensor(y_train, dtype=torch.float32)\n",
    "\n",
    "X_val = torch.tensor(X_val, dtype=torch.long)\n",
    "\n",
    "train = torch.utils.data.TensorDataset(X_train, y_train)\n",
    "test = torch.utils.data.TensorDataset(X_test, y_test)\n",
    "val = torch.utils.data.TensorDataset(X_val)\n",
    "batch_size = 256\n",
    "train_loader = torch.utils.data.DataLoader(train, batch_size=batch_size, shuffle=True)\n",
    "test_loader = torch.utils.data.DataLoader(test, batch_size=batch_size)\n",
    "val_loader = torch.utils.data.DataLoader(val, batch_size=batch_size)"
   ]
  },
  {
   "cell_type": "code",
   "execution_count": 15,
   "id": "deb02ff1-86cc-423c-843f-830f4110bde2",
   "metadata": {},
   "outputs": [
    {
     "data": {
      "text/plain": [
       "tensor([[   0,    0,    0,  ...,   72,  279,    1],\n",
       "        [   0,    0,    0,  ...,  738, 2364,    1],\n",
       "        [   0,    0,    0,  ...,   56,  162,    1],\n",
       "        ...,\n",
       "        [   0,    0,    0,  ...,    8, 1430,    1],\n",
       "        [   0,    0,    0,  ...,   16,  694,    1],\n",
       "        [   0,    0,    0,  ...,   90,  342,    1]])"
      ]
     },
     "execution_count": 15,
     "metadata": {},
     "output_type": "execute_result"
    }
   ],
   "source": [
    "X_test"
   ]
  },
  {
   "cell_type": "code",
   "execution_count": 16,
   "id": "8513d8ce-9cd5-4120-bf19-d8c097870fd0",
   "metadata": {},
   "outputs": [],
   "source": [
    "import torch\n",
    "import torch.nn as nn\n",
    "\n",
    "class NeuralNet(nn.Module):\n",
    "    def __init__(self):\n",
    "        super(NeuralNet, self).__init__()\n",
    "\n",
    "        hidden_size = 128\n",
    "        self.embedding = nn.Embedding(max_features, embed_size)\n",
    "        self.embedding.weight = nn.Parameter(torch.tensor(embedding_matrix, dtype=torch.float32))\n",
    "        self.embedding.weight.requires_grad = False  # Замораживаем веса эмбеддингов\n",
    "        \n",
    "        self.embedding_dropout = nn.Dropout(0.1)\n",
    "        \n",
    "        self.lstm = nn.LSTM(embed_size, hidden_size, bidirectional=True, batch_first=True)\n",
    "        \n",
    "        self.linear = nn.Linear(hidden_size * 4, 16)  # hidden_size * 4 = avg_pool + max_pool\n",
    "        self.relu = nn.ReLU()\n",
    "        self.dropout = nn.Dropout(0.1)\n",
    "        self.bn = nn.BatchNorm1d(16)\n",
    "        self.out = nn.Linear(16, 1)\n",
    "    def forward(self, x):\n",
    "        h_embedding = self.embedding(x)\n",
    "        h_embedding = self.embedding_dropout(h_embedding)\n",
    "        \n",
    "        h_lstm, _ = self.lstm(h_embedding)\n",
    "        \n",
    "        avg_pool = torch.mean(h_lstm, 1)  \n",
    "        max_pool, _ = torch.max(h_lstm, 1) \n",
    "        \n",
    "        conc = torch.cat((avg_pool, max_pool), 1)\n",
    "\n",
    "        conc = self.relu(self.linear(conc))\n",
    "        conc = self.dropout(conc)\n",
    "        conc = self.bn(conc)\n",
    "        out = self.out(conc)\n",
    "        \n",
    "        return out"
   ]
  },
  {
   "cell_type": "code",
   "execution_count": 17,
   "id": "802f8f5d-6862-49d7-884b-4ff4bba83f1d",
   "metadata": {},
   "outputs": [],
   "source": [
    "def sigmoid(x):\n",
    "    return 1 / (1 + np.exp(-x))"
   ]
  },
  {
   "cell_type": "code",
   "execution_count": 18,
   "id": "3bc92cb3-3df9-4533-a315-418986f18a8c",
   "metadata": {},
   "outputs": [
    {
     "name": "stderr",
     "output_type": "stream",
     "text": [
      "100%|██████████████████████████████████████████████████████████████████████████████| 4082/4082 [04:13<00:00, 16.08it/s]\n"
     ]
    },
    {
     "name": "stdout",
     "output_type": "stream",
     "text": [
      "Эпоха 1\n",
      "Train loss: 0.14053418244281266\n",
      "Train Precision: 0.6314 | Train Recall: 0.4745 | Train F1 Score: 0.5418\n",
      "Validation loss: 0.0984\n",
      "Validation Precision: 0.7447 | Validation Recall: 0.5571 | Validation F1 Score: 0.6374\n"
     ]
    },
    {
     "name": "stderr",
     "output_type": "stream",
     "text": [
      "100%|██████████████████████████████████████████████████████████████████████████████| 4082/4082 [04:18<00:00, 15.77it/s]\n"
     ]
    },
    {
     "name": "stdout",
     "output_type": "stream",
     "text": [
      "Эпоха 2\n",
      "Train loss: 0.10908841398681016\n",
      "Train Precision: 0.7096 | Train Recall: 0.5161 | Train F1 Score: 0.5976\n",
      "Validation loss: 0.0911\n",
      "Validation Precision: 0.7184 | Validation Recall: 0.6768 | Validation F1 Score: 0.6970\n"
     ]
    },
    {
     "name": "stderr",
     "output_type": "stream",
     "text": [
      "100%|██████████████████████████████████████████████████████████████████████████████| 4082/4082 [04:18<00:00, 15.79it/s]\n"
     ]
    },
    {
     "name": "stdout",
     "output_type": "stream",
     "text": [
      "Эпоха 3\n",
      "Train loss: 0.10365186387190248\n",
      "Train Precision: 0.7216 | Train Recall: 0.5411 | Train F1 Score: 0.6185\n",
      "Validation loss: 0.0860\n",
      "Validation Precision: 0.7538 | Validation Recall: 0.6667 | Validation F1 Score: 0.7076\n"
     ]
    },
    {
     "name": "stderr",
     "output_type": "stream",
     "text": [
      "100%|██████████████████████████████████████████████████████████████████████████████| 4082/4082 [04:15<00:00, 16.00it/s]\n"
     ]
    },
    {
     "name": "stdout",
     "output_type": "stream",
     "text": [
      "Эпоха 4\n",
      "Train loss: 0.09900199267091504\n",
      "Train Precision: 0.7265 | Train Recall: 0.5663 | Train F1 Score: 0.6365\n",
      "Validation loss: 0.0804\n",
      "Validation Precision: 0.8061 | Validation Recall: 0.6121 | Validation F1 Score: 0.6959\n"
     ]
    },
    {
     "name": "stderr",
     "output_type": "stream",
     "text": [
      "100%|██████████████████████████████████████████████████████████████████████████████| 4082/4082 [04:18<00:00, 15.77it/s]\n"
     ]
    },
    {
     "name": "stdout",
     "output_type": "stream",
     "text": [
      "Эпоха 5\n",
      "Train loss: 0.09392330356559189\n",
      "Train Precision: 0.7413 | Train Recall: 0.5933 | Train F1 Score: 0.6591\n",
      "Validation loss: 0.0751\n",
      "Validation Precision: 0.8146 | Validation Recall: 0.6602 | Validation F1 Score: 0.7293\n"
     ]
    },
    {
     "name": "stderr",
     "output_type": "stream",
     "text": [
      "100%|██████████████████████████████████████████████████████████████████████████████| 4082/4082 [04:12<00:00, 16.20it/s]\n"
     ]
    },
    {
     "name": "stdout",
     "output_type": "stream",
     "text": [
      "Эпоха 6\n",
      "Train loss: 0.08714440161164269\n",
      "Train Precision: 0.7484 | Train Recall: 0.6276 | Train F1 Score: 0.6827\n",
      "Validation loss: 0.0694\n",
      "Validation Precision: 0.7485 | Validation Recall: 0.8125 | Validation F1 Score: 0.7792\n"
     ]
    },
    {
     "name": "stderr",
     "output_type": "stream",
     "text": [
      "100%|██████████████████████████████████████████████████████████████████████████████| 4082/4082 [04:11<00:00, 16.22it/s]\n"
     ]
    },
    {
     "name": "stdout",
     "output_type": "stream",
     "text": [
      "Эпоха 7\n",
      "Train loss: 0.08186870127312175\n",
      "Train Precision: 0.7626 | Train Recall: 0.6662 | Train F1 Score: 0.7111\n",
      "Validation loss: 0.0634\n",
      "Validation Precision: 0.8434 | Validation Recall: 0.7173 | Validation F1 Score: 0.7752\n"
     ]
    },
    {
     "name": "stderr",
     "output_type": "stream",
     "text": [
      "100%|██████████████████████████████████████████████████████████████████████████████| 4082/4082 [04:17<00:00, 15.85it/s]\n"
     ]
    },
    {
     "name": "stdout",
     "output_type": "stream",
     "text": [
      "Эпоха 8\n",
      "Train loss: 0.07795902378838897\n",
      "Train Precision: 0.7725 | Train Recall: 0.6849 | Train F1 Score: 0.7260\n",
      "Validation loss: 0.0590\n",
      "Validation Precision: 0.8371 | Validation Recall: 0.7735 | Validation F1 Score: 0.8040\n"
     ]
    },
    {
     "name": "stderr",
     "output_type": "stream",
     "text": [
      "100%|██████████████████████████████████████████████████████████████████████████████| 4082/4082 [04:16<00:00, 15.92it/s]\n"
     ]
    },
    {
     "name": "stdout",
     "output_type": "stream",
     "text": [
      "Эпоха 9\n",
      "Train loss: 0.07562868941633702\n",
      "Train Precision: 0.7776 | Train Recall: 0.6907 | Train F1 Score: 0.7315\n",
      "Validation loss: 0.0574\n",
      "Validation Precision: 0.7982 | Validation Recall: 0.8580 | Validation F1 Score: 0.8270\n"
     ]
    },
    {
     "name": "stderr",
     "output_type": "stream",
     "text": [
      "100%|██████████████████████████████████████████████████████████████████████████████| 4082/4082 [04:16<00:00, 15.88it/s]\n"
     ]
    },
    {
     "name": "stdout",
     "output_type": "stream",
     "text": [
      "Эпоха 10\n",
      "Train loss: 0.07297235867578951\n",
      "Train Precision: 0.7801 | Train Recall: 0.7005 | Train F1 Score: 0.7381\n",
      "Validation loss: 0.0558\n",
      "Validation Precision: 0.8289 | Validation Recall: 0.8549 | Validation F1 Score: 0.8417\n"
     ]
    }
   ],
   "source": [
    "from sklearn.metrics import precision_score, recall_score, f1_score\n",
    "device = 'cuda' if torch.cuda.is_available() else 'cpu'\n",
    "batch_size = batch_size\n",
    "from tqdm import tqdm\n",
    "model = NeuralNet().to(device)\n",
    "loss_fn = nn.BCEWithLogitsLoss()\n",
    "optimizer = optim.AdamW(model.parameters())\n",
    "best_f1 = 0\n",
    "for epoch in range(10):\n",
    "    model.train()\n",
    "    train_loss = 0\n",
    "    all_train_preds = []\n",
    "    all_train_labels = []\n",
    "\n",
    "    for x_batch, y_batch in tqdm(train_loader):\n",
    "        x_batch, y_batch = x_batch.to(device).long(), y_batch.to(device).unsqueeze(1)\n",
    "        \n",
    "        optimizer.zero_grad()\n",
    "        \n",
    "        y_pred = model(x_batch)\n",
    "        \n",
    "        loss = loss_fn(y_pred, y_batch)\n",
    "        \n",
    "        loss.backward()\n",
    "        \n",
    "        optimizer.step()\n",
    "        \n",
    "        train_loss += loss.item() / len(train_loader)\n",
    "\n",
    "        probs = torch.sigmoid(y_pred)\n",
    "        pred_labels = (probs > 0.5).float()\n",
    "        all_train_preds.extend(pred_labels.cpu().numpy())\n",
    "        all_train_labels.extend(y_batch.cpu().numpy())\n",
    "    \n",
    "    all_train_labels = np.array(all_train_labels).flatten()\n",
    "    all_train_preds = np.array(all_train_preds).flatten()\n",
    "\n",
    "    precision_train = precision_score(all_train_labels, all_train_preds)\n",
    "    recall_train = recall_score(all_train_labels, all_train_preds)\n",
    "    f1_train = f1_score(all_train_labels, all_train_preds)\n",
    "    print(f\"Эпоха {epoch+1}\")\n",
    "    print(f\"Train loss: {train_loss}\")\n",
    "    print(f\"Train Precision: {precision_train:.4f} | Train Recall: {recall_train:.4f} | Train F1 Score: {f1_train:.4f}\")\n",
    "\n",
    "    \n",
    "    model.eval()\n",
    "    val_loss = 0\n",
    "    all_preds = []\n",
    "    all_labels = []\n",
    "\n",
    "    with torch.no_grad():\n",
    "        for x_val, y_val in test_loader:\n",
    "            x_val, y_val = x_val.to(device).long(), y_val.to(device).unsqueeze(1)\n",
    "            preds = model(x_val)\n",
    "            loss = loss_fn(preds, y_val)\n",
    "            val_loss += loss.item() / len(test_loader)\n",
    "\n",
    "            probs = torch.sigmoid(preds) \n",
    "            pred_labels = (probs > 0.5).float()\n",
    "            all_preds.extend(pred_labels.cpu().numpy()) \n",
    "            all_labels.extend(y_val.cpu().numpy()) \n",
    "\n",
    "    all_labels = np.array(all_labels).flatten()\n",
    "    all_preds = np.array(all_preds).flatten()\n",
    "\n",
    "    precision_val = precision_score(all_labels, all_preds)\n",
    "    recall_val = recall_score(all_labels, all_preds)\n",
    "    f1_val = f1_score(all_labels, all_preds)\n",
    "    \n",
    "    print(f\"Validation loss: {val_loss:.4f}\")\n",
    "    print(f\"Validation Precision: {precision_val:.4f} | Validation Recall: {recall_val:.4f} | Validation F1 Score: {f1_val:.4f}\")\n",
    "    if f1_val > best_f1:\n",
    "        best_f1 = f1_val\n",
    "        torch.save(model.state_dict(), \"best_model.pth\")\n",
    "    \n",
    "    val_preds = np.zeros((len(val_loader.dataset)))\n",
    "\n",
    "    for i, (x_batch,) in enumerate(val_loader):\n",
    "        x_batch = x_batch.to(device).long()\n",
    "        y_pred = model(x_batch).detach()\n",
    "    \n",
    "\n",
    "        val_preds[i * batch_size:(i+1) * batch_size] = sigmoid(y_pred.cpu().numpy())[:, 0]\n"
   ]
  },
  {
   "cell_type": "code",
   "execution_count": 20,
   "id": "f524af40-e76b-411a-8e21-d29e5c8e95ea",
   "metadata": {},
   "outputs": [],
   "source": [
    "sub['prediction'] = (val_preds > 0.5).astype(int)\n",
    "sub.to_csv(\"submission.csv\", index=False)"
   ]
  }
 ],
 "metadata": {
  "kernelspec": {
   "display_name": "Python 3 (ipykernel)",
   "language": "python",
   "name": "python3"
  },
  "language_info": {
   "codemirror_mode": {
    "name": "ipython",
    "version": 3
   },
   "file_extension": ".py",
   "mimetype": "text/x-python",
   "name": "python",
   "nbconvert_exporter": "python",
   "pygments_lexer": "ipython3",
   "version": "3.12.9"
  }
 },
 "nbformat": 4,
 "nbformat_minor": 5
}
